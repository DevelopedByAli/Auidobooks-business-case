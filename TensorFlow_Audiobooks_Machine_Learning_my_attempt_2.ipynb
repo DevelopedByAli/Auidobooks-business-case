{
 "cells": [
  {
   "cell_type": "code",
   "execution_count": 1,
   "metadata": {},
   "outputs": [],
   "source": [
    "import numpy as np\n",
    "import tensorflow as tf"
   ]
  },
  {
   "cell_type": "markdown",
   "metadata": {},
   "source": [
    "### Data"
   ]
  },
  {
   "cell_type": "code",
   "execution_count": 2,
   "metadata": {},
   "outputs": [],
   "source": [
    "npz = np.load('Audiobooks_data_train.npz')\n",
    "\n",
    "train_inputs = npz['inputs'].astype(np.float)\n",
    "train_targets = npz['targets'].astype(np.int)\n",
    "\n",
    "npz = np.load('Audiobooks_data_validation.npz')\n",
    "validation_inputs, validation_targets = npz['inputs'].astype(np.float), npz['targets'].astype(np.int)\n",
    "\n",
    "npz = np.load('Audiobooks_data_test.npz')\n",
    "test_inputs, test_targets = npz['inputs'].astype(np.float), npz['targets'].astype(np.int)"
   ]
  },
  {
   "cell_type": "markdown",
   "metadata": {},
   "source": [
    "### Model"
   ]
  },
  {
   "cell_type": "code",
   "execution_count": 3,
   "metadata": {},
   "outputs": [],
   "source": [
    "input_size = 10\n",
    "output_size = 2\n",
    "hidden_layer_size = 50\n",
    "\n",
    "model = tf.keras.Sequential([\n",
    "    tf.keras.layers.Dense(hidden_layer_size, activation = 'relu'),\n",
    "    tf.keras.layers.Dense(hidden_layer_size, activation = 'relu'),\n",
    "    tf.keras.layers.Dense(output_size, activation = 'softmax')\n",
    "])\n",
    "\n",
    "model.compile(optimizer='adam', loss = 'sparse_categorical_crossentropy', metrics=['accuracy'])"
   ]
  },
  {
   "cell_type": "code",
   "execution_count": 4,
   "metadata": {},
   "outputs": [
    {
     "name": "stdout",
     "output_type": "stream",
     "text": [
      "Epoch 1/100\n",
      "36/36 - 3s - loss: 0.6061 - accuracy: 0.6977 - val_loss: 0.5139 - val_accuracy: 0.7517\n",
      "Epoch 2/100\n",
      "36/36 - 0s - loss: 0.4711 - accuracy: 0.7619 - val_loss: 0.4454 - val_accuracy: 0.7673\n",
      "Epoch 3/100\n",
      "36/36 - 0s - loss: 0.4208 - accuracy: 0.7818 - val_loss: 0.4173 - val_accuracy: 0.7562\n",
      "Epoch 4/100\n",
      "36/36 - 0s - loss: 0.4002 - accuracy: 0.7893 - val_loss: 0.3937 - val_accuracy: 0.7763\n",
      "Epoch 5/100\n",
      "36/36 - 0s - loss: 0.3885 - accuracy: 0.8002 - val_loss: 0.3896 - val_accuracy: 0.7964\n",
      "Epoch 6/100\n",
      "36/36 - 0s - loss: 0.3835 - accuracy: 0.7972 - val_loss: 0.3884 - val_accuracy: 0.7808\n",
      "Epoch 7/100\n",
      "36/36 - 0s - loss: 0.3761 - accuracy: 0.7938 - val_loss: 0.3931 - val_accuracy: 0.7785\n",
      "Epoch 8/100\n",
      "36/36 - 0s - loss: 0.3766 - accuracy: 0.7963 - val_loss: 0.3733 - val_accuracy: 0.8098\n",
      "Epoch 9/100\n",
      "36/36 - 0s - loss: 0.3695 - accuracy: 0.7997 - val_loss: 0.3622 - val_accuracy: 0.8121\n",
      "Epoch 10/100\n",
      "36/36 - 0s - loss: 0.3687 - accuracy: 0.8005 - val_loss: 0.3623 - val_accuracy: 0.8098\n",
      "Epoch 11/100\n",
      "36/36 - 0s - loss: 0.3649 - accuracy: 0.8025 - val_loss: 0.3653 - val_accuracy: 0.8076\n"
     ]
    },
    {
     "data": {
      "text/plain": [
       "<tensorflow.python.keras.callbacks.History at 0x245f8f6a880>"
      ]
     },
     "execution_count": 4,
     "metadata": {},
     "output_type": "execute_result"
    }
   ],
   "source": [
    "batch_size = 100\n",
    "max_epochs =100\n",
    "\n",
    "early_stopping = tf.keras.callbacks.EarlyStopping(patience=2)\n",
    "\n",
    "model.fit(\n",
    "    train_inputs,\n",
    "    train_targets,\n",
    "    batch_size = batch_size,\n",
    "    epochs = max_epochs,\n",
    "    callbacks=[early_stopping],\n",
    "    validation_data = (validation_inputs, validation_targets),\n",
    "    verbose = 2\n",
    ")"
   ]
  },
  {
   "cell_type": "code",
   "execution_count": null,
   "metadata": {},
   "outputs": [],
   "source": []
  }
 ],
 "metadata": {
  "kernelspec": {
   "display_name": "Python 3",
   "language": "python",
   "name": "python3"
  },
  "language_info": {
   "codemirror_mode": {
    "name": "ipython",
    "version": 3
   },
   "file_extension": ".py",
   "mimetype": "text/x-python",
   "name": "python",
   "nbconvert_exporter": "python",
   "pygments_lexer": "ipython3",
   "version": "3.8.5"
  }
 },
 "nbformat": 4,
 "nbformat_minor": 4
}
